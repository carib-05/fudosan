{
 "cells": [
  {
   "cell_type": "code",
   "execution_count": 172,
   "metadata": {},
   "outputs": [],
   "source": [
    "import requests # requests機能をインポートします。\n",
    "import pandas as pd\n",
    "REQUEST_URL = 'https://suumo.jp/chintai/tokyo/sc_nakano/?page={}' #アクセス先をREQUEST_URLを代入します。\n",
    "target_URL=REQUEST_URL.format(1)\n",
    "res = requests.get(target_URL) #リクエストしたデータをresに代入します。\n",
    "soup = BeautifulSoup(res.text)\n",
    "res.encoding = 'utf-8' # resの文字データがISO-8859-1なので、utf-8に変換して文字化けを防止します。"
   ]
  },
  {
   "cell_type": "code",
   "execution_count": 151,
   "metadata": {},
   "outputs": [],
   "source": [
    "from bs4 import BeautifulSoup # BeautifulSoupの機能をインポートします。\n",
    "soup = BeautifulSoup(res.text,\"html.parser\") # BeautifulSoup(解析したいデータ,解析する方法)を指定し、解析したデータをsoupに代入します。"
   ]
  },
  {
   "cell_type": "code",
   "execution_count": 152,
   "metadata": {},
   "outputs": [],
   "source": [
    "contents = soup.find_all('div',class_='cassetteitem')"
   ]
  },
  {
   "cell_type": "code",
   "execution_count": 153,
   "metadata": {},
   "outputs": [
    {
     "data": {
      "text/plain": [
       "20"
      ]
     },
     "execution_count": 153,
     "metadata": {},
     "output_type": "execute_result"
    }
   ],
   "source": [
    "len(contents)"
   ]
  },
  {
   "cell_type": "code",
   "execution_count": 154,
   "metadata": {},
   "outputs": [],
   "source": [
    "content = contents[0]"
   ]
  },
  {
   "cell_type": "code",
   "execution_count": 155,
   "metadata": {},
   "outputs": [],
   "source": [
    "detail = content.find('div',class_='cassetteitem-detail') #物件・建物情報の変数に格納\n",
    "table = content.find('table',class_='cassetteitem_other') #各部屋の情報の変数に格納"
   ]
  },
  {
   "cell_type": "code",
   "execution_count": 156,
   "metadata": {},
   "outputs": [],
   "source": [
    "#物件・建物情報の抽出\n",
    "title = detail.find('div',class_='cassetteitem_content-title').text\n",
    "address = detail.find('li',class_='cassetteitem_detail-col1').text\n",
    "access = detail.find('li',class_='cassetteitem_detail-col2').text\n",
    "age = detail.find('li',class_='cassetteitem_detail-col3').text"
   ]
  },
  {
   "cell_type": "code",
   "execution_count": 157,
   "metadata": {},
   "outputs": [
    {
     "data": {
      "text/plain": [
       "('西武新宿線 鷺ノ宮駅 2階建 築15年',\n",
       " '東京都中野区白鷺２',\n",
       " '\\n西武新宿線/鷺ノ宮駅 歩8分\\n西武新宿線/下井草駅 歩14分\\nＪＲ中央線/阿佐ケ谷駅 歩25分\\n',\n",
       " '\\n築15年\\n2階建\\n')"
      ]
     },
     "execution_count": 157,
     "metadata": {},
     "output_type": "execute_result"
    }
   ],
   "source": [
    "title,address,access,age"
   ]
  },
  {
   "cell_type": "code",
   "execution_count": 158,
   "metadata": {},
   "outputs": [],
   "source": [
    "#部屋情報の取得\n",
    "tr_tags = table.find_all('tr',class_='js-cassette_link')\n",
    "tr_tag = tr_tags[0]"
   ]
  },
  {
   "cell_type": "code",
   "execution_count": 159,
   "metadata": {},
   "outputs": [],
   "source": [
    "floor,price,first_fee,capacity = tr_tag.find_all('td')[2:6]"
   ]
  },
  {
   "cell_type": "code",
   "execution_count": 160,
   "metadata": {},
   "outputs": [
    {
     "data": {
      "text/plain": [
       "(<td>\n",
       " \t\t\t\t\t\t\t\t\t\t\t1階</td>,\n",
       " <td>\n",
       " <ul>\n",
       " <li><span class=\"cassetteitem_price cassetteitem_price--rent\"><span class=\"cassetteitem_other-emphasis ui-text--bold\">9.1万円</span></span></li>\n",
       " <li><span class=\"cassetteitem_price cassetteitem_price--administration\">2000円</span></li>\n",
       " </ul>\n",
       " </td>,\n",
       " <td>\n",
       " <ul>\n",
       " <li><span class=\"cassetteitem_price cassetteitem_price--deposit\">9.1万円</span></li>\n",
       " <li><span class=\"cassetteitem_price cassetteitem_price--gratuity\">-</span></li>\n",
       " </ul>\n",
       " </td>,\n",
       " <td>\n",
       " <ul>\n",
       " <li><span class=\"cassetteitem_madori\">1LDK</span></li>\n",
       " <li><span class=\"cassetteitem_menseki\">37.26m<sup>2</sup></span></li>\n",
       " </ul>\n",
       " </td>)"
      ]
     },
     "execution_count": 160,
     "metadata": {},
     "output_type": "execute_result"
    }
   ],
   "source": [
    "floor,price,first_fee,capacity"
   ]
  },
  {
   "cell_type": "code",
   "execution_count": 161,
   "metadata": {},
   "outputs": [],
   "source": [
    "#賃料と管理費を格納\n",
    "fee, management_fee = price.find_all(\"li\")\n",
    "#敷金と礼金を格納\n",
    "deposit, gratuity = first_fee.find_all(\"li\")\n",
    "#間取りと面積を格納\n",
    "madori, menseki = capacity.find_all(\"li\")"
   ]
  },
  {
   "cell_type": "code",
   "execution_count": 162,
   "metadata": {},
   "outputs": [
    {
     "name": "stdout",
     "output_type": "stream",
     "text": [
      "<li><span class=\"cassetteitem_price cassetteitem_price--rent\"><span class=\"cassetteitem_other-emphasis ui-text--bold\">9.1万円</span></span></li>\n",
      "<li><span class=\"cassetteitem_price cassetteitem_price--administration\">2000円</span></li>\n",
      "\n",
      "<li><span class=\"cassetteitem_price cassetteitem_price--deposit\">9.1万円</span></li>\n",
      "<li><span class=\"cassetteitem_price cassetteitem_price--gratuity\">-</span></li>\n",
      "\n",
      "<li><span class=\"cassetteitem_madori\">1LDK</span></li>\n",
      "<li><span class=\"cassetteitem_menseki\">37.26m<sup>2</sup></span></li>\n",
      "\n"
     ]
    }
   ],
   "source": [
    "print(fee)\n",
    "print(management_fee)\n",
    "print()\n",
    "\n",
    "print(deposit)\n",
    "print(gratuity)\n",
    "print()\n",
    "\n",
    "print(madori)\n",
    "print(menseki)\n",
    "print()"
   ]
  },
  {
   "cell_type": "code",
   "execution_count": 163,
   "metadata": {},
   "outputs": [],
   "source": [
    "# 取得した情報を辞書に格納\n",
    "d = {\n",
    "    'title':title,\n",
    "    'address':address,\n",
    "    'access':access,\n",
    "    'age':age,\n",
    "    'floor':floor.text,\n",
    "    'fee':fee.text,\n",
    "    'management_fee':management_fee.text,\n",
    "    'deposit':deposit.text,\n",
    "    'gratuity':gratuity.text,\n",
    "    'madori':madori.text,\n",
    "    'menseki':menseki.text\n",
    "}"
   ]
  },
  {
   "cell_type": "code",
   "execution_count": 164,
   "metadata": {},
   "outputs": [
    {
     "data": {
      "text/plain": [
       "{'title': '西武新宿線 鷺ノ宮駅 2階建 築15年',\n",
       " 'address': '東京都中野区白鷺２',\n",
       " 'access': '\\n西武新宿線/鷺ノ宮駅 歩8分\\n西武新宿線/下井草駅 歩14分\\nＪＲ中央線/阿佐ケ谷駅 歩25分\\n',\n",
       " 'age': '\\n築15年\\n2階建\\n',\n",
       " 'floor': '\\r\\n\\t\\t\\t\\t\\t\\t\\t\\t\\t\\t\\t1階',\n",
       " 'fee': '9.1万円',\n",
       " 'management_fee': '2000円',\n",
       " 'deposit': '9.1万円',\n",
       " 'gratuity': '-',\n",
       " 'madori': '1LDK',\n",
       " 'menseki': '37.26m2'}"
      ]
     },
     "execution_count": 164,
     "metadata": {},
     "output_type": "execute_result"
    }
   ],
   "source": [
    "d"
   ]
  },
  {
   "cell_type": "code",
   "execution_count": 168,
   "metadata": {},
   "outputs": [],
   "source": [
    "d_list=[]\n",
    "\n",
    "contents = soup.find_all('div',class_='cassetteitem')\n",
    "\n",
    "for content in contents:\n",
    "    detail = content.find('div',class_='cassetteitem-detail') #物件・建物情報の変数に格納\n",
    "    table = content.find('table',class_='cassetteitem_other') #各部屋の情報の変数に格納\n",
    "    \n",
    "    #物件・建物情報の抽出\n",
    "    title = detail.find('div',class_='cassetteitem_content-title').text\n",
    "    address = detail.find('li',class_='cassetteitem_detail-col1').text\n",
    "    access = detail.find('li',class_='cassetteitem_detail-col2').text\n",
    "    age = detail.find('li',class_='cassetteitem_detail-col3').text\n",
    "    \n",
    "    #各部屋の情報\n",
    "    tr_tags = table.find_all('tr',class_='js-cassette_link')\n",
    "    for tr_tag in tr_tags:\n",
    "        floor,price,first_fee,capacity = tr_tag.find_all('td')[2:6]\n",
    "        fee, management_fee = price.find_all(\"li\")\n",
    "        deposit, gratuity = first_fee.find_all(\"li\")\n",
    "        madori, menseki = capacity.find_all(\"li\")\n",
    "        \n",
    "        d = {\n",
    "            'title':title,\n",
    "            'address':address,\n",
    "            'access':access,\n",
    "            'age':age,\n",
    "            'floor':floor.text,\n",
    "            'fee':fee.text,\n",
    "            'management_fee':management_fee.text,\n",
    "            'deposit':deposit.text,\n",
    "            'gratuity':gratuity.text,\n",
    "            'madori':madori.text,\n",
    "            'menseki':menseki.text\n",
    "        }\n",
    "        \n",
    "        d_list.append(d)\n",
    "        \n",
    "        "
   ]
  },
  {
   "cell_type": "code",
   "execution_count": 169,
   "metadata": {},
   "outputs": [],
   "source": [
    "from pprint import pprint"
   ]
  },
  {
   "cell_type": "code",
   "execution_count": 171,
   "metadata": {},
   "outputs": [
    {
     "name": "stdout",
     "output_type": "stream",
     "text": [
      "{'access': '\\n都営大江戸線/新江古田駅 歩8分\\n西武池袋線/東長崎駅 歩11分\\n都営大江戸線/落合南長崎駅 歩13分\\n',\n",
      " 'address': '東京都中野区江原町１',\n",
      " 'age': '\\n築8年\\n3階建\\n',\n",
      " 'deposit': '10.2万円',\n",
      " 'fee': '10.2万円',\n",
      " 'floor': '\\r\\n\\t\\t\\t\\t\\t\\t\\t\\t\\t\\t\\t1階',\n",
      " 'gratuity': '10.2万円',\n",
      " 'madori': '1LDK',\n",
      " 'management_fee': '-',\n",
      " 'menseki': '35.5m2',\n",
      " 'title': 'ＥＨＡＲＡ\\u3000ＧＡＲＤＥＮ'}\n"
     ]
    }
   ],
   "source": [
    "pprint(d_list[1])"
   ]
  },
  {
   "cell_type": "code",
   "execution_count": 173,
   "metadata": {},
   "outputs": [
    {
     "data": {
      "text/plain": [
       "[{'title': '西武新宿線 鷺ノ宮駅 2階建 築15年',\n",
       "  'address': '東京都中野区白鷺２',\n",
       "  'access': '\\n西武新宿線/鷺ノ宮駅 歩8分\\n西武新宿線/下井草駅 歩14分\\nＪＲ中央線/阿佐ケ谷駅 歩25分\\n',\n",
       "  'age': '\\n築15年\\n2階建\\n',\n",
       "  'floor': '\\r\\n\\t\\t\\t\\t\\t\\t\\t\\t\\t\\t\\t1階',\n",
       "  'fee': '9.1万円',\n",
       "  'management_fee': '2000円',\n",
       "  'deposit': '9.1万円',\n",
       "  'gratuity': '-',\n",
       "  'madori': '1LDK',\n",
       "  'menseki': '37.26m2'},\n",
       " {'title': 'ＥＨＡＲＡ\\u3000ＧＡＲＤＥＮ',\n",
       "  'address': '東京都中野区江原町１',\n",
       "  'access': '\\n都営大江戸線/新江古田駅 歩8分\\n西武池袋線/東長崎駅 歩11分\\n都営大江戸線/落合南長崎駅 歩13分\\n',\n",
       "  'age': '\\n築8年\\n3階建\\n',\n",
       "  'floor': '\\r\\n\\t\\t\\t\\t\\t\\t\\t\\t\\t\\t\\t1階',\n",
       "  'fee': '10.2万円',\n",
       "  'management_fee': '-',\n",
       "  'deposit': '10.2万円',\n",
       "  'gratuity': '10.2万円',\n",
       "  'madori': '1LDK',\n",
       "  'menseki': '35.5m2'}]"
      ]
     },
     "execution_count": 173,
     "metadata": {},
     "output_type": "execute_result"
    }
   ],
   "source": [
    "d_list[:2]"
   ]
  },
  {
   "cell_type": "code",
   "execution_count": 175,
   "metadata": {},
   "outputs": [],
   "source": [
    "df = pd.DataFrame(d_list)"
   ]
  },
  {
   "cell_type": "code",
   "execution_count": 178,
   "metadata": {},
   "outputs": [
    {
     "data": {
      "text/html": [
       "<div>\n",
       "<style scoped>\n",
       "    .dataframe tbody tr th:only-of-type {\n",
       "        vertical-align: middle;\n",
       "    }\n",
       "\n",
       "    .dataframe tbody tr th {\n",
       "        vertical-align: top;\n",
       "    }\n",
       "\n",
       "    .dataframe thead th {\n",
       "        text-align: right;\n",
       "    }\n",
       "</style>\n",
       "<table border=\"1\" class=\"dataframe\">\n",
       "  <thead>\n",
       "    <tr style=\"text-align: right;\">\n",
       "      <th></th>\n",
       "      <th>title</th>\n",
       "      <th>address</th>\n",
       "      <th>access</th>\n",
       "      <th>age</th>\n",
       "      <th>floor</th>\n",
       "      <th>fee</th>\n",
       "      <th>management_fee</th>\n",
       "      <th>deposit</th>\n",
       "      <th>gratuity</th>\n",
       "      <th>madori</th>\n",
       "      <th>menseki</th>\n",
       "    </tr>\n",
       "  </thead>\n",
       "  <tbody>\n",
       "    <tr>\n",
       "      <th>0</th>\n",
       "      <td>西武新宿線 鷺ノ宮駅 2階建 築15年</td>\n",
       "      <td>東京都中野区白鷺２</td>\n",
       "      <td>\\n西武新宿線/鷺ノ宮駅 歩8分\\n西武新宿線/下井草駅 歩14分\\nＪＲ中央線/阿佐ケ谷駅...</td>\n",
       "      <td>\\n築15年\\n2階建\\n</td>\n",
       "      <td>\\r\\n\\t\\t\\t\\t\\t\\t\\t\\t\\t\\t\\t1階</td>\n",
       "      <td>9.1万円</td>\n",
       "      <td>2000円</td>\n",
       "      <td>9.1万円</td>\n",
       "      <td>-</td>\n",
       "      <td>1LDK</td>\n",
       "      <td>37.26m2</td>\n",
       "    </tr>\n",
       "    <tr>\n",
       "      <th>1</th>\n",
       "      <td>ＥＨＡＲＡ　ＧＡＲＤＥＮ</td>\n",
       "      <td>東京都中野区江原町１</td>\n",
       "      <td>\\n都営大江戸線/新江古田駅 歩8分\\n西武池袋線/東長崎駅 歩11分\\n都営大江戸線/落合...</td>\n",
       "      <td>\\n築8年\\n3階建\\n</td>\n",
       "      <td>\\r\\n\\t\\t\\t\\t\\t\\t\\t\\t\\t\\t\\t1階</td>\n",
       "      <td>10.2万円</td>\n",
       "      <td>-</td>\n",
       "      <td>10.2万円</td>\n",
       "      <td>10.2万円</td>\n",
       "      <td>1LDK</td>\n",
       "      <td>35.5m2</td>\n",
       "    </tr>\n",
       "    <tr>\n",
       "      <th>2</th>\n",
       "      <td>ＥＨＡＲＡ　ＧＡＲＤＥＮ</td>\n",
       "      <td>東京都中野区江原町１</td>\n",
       "      <td>\\n都営大江戸線/新江古田駅 歩8分\\n西武池袋線/東長崎駅 歩11分\\n都営大江戸線/落合...</td>\n",
       "      <td>\\n築8年\\n3階建\\n</td>\n",
       "      <td>\\r\\n\\t\\t\\t\\t\\t\\t\\t\\t\\t\\t\\t1階</td>\n",
       "      <td>11万円</td>\n",
       "      <td>-</td>\n",
       "      <td>11万円</td>\n",
       "      <td>11万円</td>\n",
       "      <td>1LDK</td>\n",
       "      <td>40.09m2</td>\n",
       "    </tr>\n",
       "    <tr>\n",
       "      <th>3</th>\n",
       "      <td>メゾンドオピュール</td>\n",
       "      <td>東京都中野区弥生町５</td>\n",
       "      <td>\\n東京メトロ丸ノ内線/中野富士見町駅 歩5分\\n東京メトロ丸ノ内線/方南町駅 歩13分\\n...</td>\n",
       "      <td>\\n築8年\\n3階建\\n</td>\n",
       "      <td>\\r\\n\\t\\t\\t\\t\\t\\t\\t\\t\\t\\t\\t3階</td>\n",
       "      <td>11.2万円</td>\n",
       "      <td>3000円</td>\n",
       "      <td>-</td>\n",
       "      <td>11.2万円</td>\n",
       "      <td>1LDK</td>\n",
       "      <td>49.62m2</td>\n",
       "    </tr>\n",
       "    <tr>\n",
       "      <th>4</th>\n",
       "      <td>メゾンドオピュール</td>\n",
       "      <td>東京都中野区弥生町５</td>\n",
       "      <td>\\n東京メトロ丸ノ内線/中野富士見町駅 歩5分\\n東京メトロ丸ノ内線/方南町駅 歩13分\\n...</td>\n",
       "      <td>\\n築8年\\n3階建\\n</td>\n",
       "      <td>\\r\\n\\t\\t\\t\\t\\t\\t\\t\\t\\t\\t\\t3階</td>\n",
       "      <td>11.2万円</td>\n",
       "      <td>3300円</td>\n",
       "      <td>-</td>\n",
       "      <td>11.2万円</td>\n",
       "      <td>1LDK</td>\n",
       "      <td>49.62m2</td>\n",
       "    </tr>\n",
       "  </tbody>\n",
       "</table>\n",
       "</div>"
      ],
      "text/plain": [
       "                 title     address   \n",
       "0  西武新宿線 鷺ノ宮駅 2階建 築15年   東京都中野区白鷺２  \\\n",
       "1         ＥＨＡＲＡ　ＧＡＲＤＥＮ  東京都中野区江原町１   \n",
       "2         ＥＨＡＲＡ　ＧＡＲＤＥＮ  東京都中野区江原町１   \n",
       "3            メゾンドオピュール  東京都中野区弥生町５   \n",
       "4            メゾンドオピュール  東京都中野区弥生町５   \n",
       "\n",
       "                                              access            age   \n",
       "0  \\n西武新宿線/鷺ノ宮駅 歩8分\\n西武新宿線/下井草駅 歩14分\\nＪＲ中央線/阿佐ケ谷駅...  \\n築15年\\n2階建\\n  \\\n",
       "1  \\n都営大江戸線/新江古田駅 歩8分\\n西武池袋線/東長崎駅 歩11分\\n都営大江戸線/落合...   \\n築8年\\n3階建\\n   \n",
       "2  \\n都営大江戸線/新江古田駅 歩8分\\n西武池袋線/東長崎駅 歩11分\\n都営大江戸線/落合...   \\n築8年\\n3階建\\n   \n",
       "3  \\n東京メトロ丸ノ内線/中野富士見町駅 歩5分\\n東京メトロ丸ノ内線/方南町駅 歩13分\\n...   \\n築8年\\n3階建\\n   \n",
       "4  \\n東京メトロ丸ノ内線/中野富士見町駅 歩5分\\n東京メトロ丸ノ内線/方南町駅 歩13分\\n...   \\n築8年\\n3階建\\n   \n",
       "\n",
       "                          floor     fee management_fee deposit gratuity   \n",
       "0  \\r\\n\\t\\t\\t\\t\\t\\t\\t\\t\\t\\t\\t1階   9.1万円          2000円   9.1万円        -  \\\n",
       "1  \\r\\n\\t\\t\\t\\t\\t\\t\\t\\t\\t\\t\\t1階  10.2万円              -  10.2万円   10.2万円   \n",
       "2  \\r\\n\\t\\t\\t\\t\\t\\t\\t\\t\\t\\t\\t1階    11万円              -    11万円     11万円   \n",
       "3  \\r\\n\\t\\t\\t\\t\\t\\t\\t\\t\\t\\t\\t3階  11.2万円          3000円       -   11.2万円   \n",
       "4  \\r\\n\\t\\t\\t\\t\\t\\t\\t\\t\\t\\t\\t3階  11.2万円          3300円       -   11.2万円   \n",
       "\n",
       "  madori  menseki  \n",
       "0   1LDK  37.26m2  \n",
       "1   1LDK   35.5m2  \n",
       "2   1LDK  40.09m2  \n",
       "3   1LDK  49.62m2  \n",
       "4   1LDK  49.62m2  "
      ]
     },
     "execution_count": 178,
     "metadata": {},
     "output_type": "execute_result"
    }
   ],
   "source": [
    "df.head()\n"
   ]
  },
  {
   "cell_type": "code",
   "execution_count": 179,
   "metadata": {},
   "outputs": [
    {
     "data": {
      "text/plain": [
       "(50, 11)"
      ]
     },
     "execution_count": 179,
     "metadata": {},
     "output_type": "execute_result"
    }
   ],
   "source": [
    "df.shape"
   ]
  },
  {
   "cell_type": "code",
   "execution_count": 180,
   "metadata": {},
   "outputs": [
    {
     "data": {
      "text/plain": [
       "20"
      ]
     },
     "execution_count": 180,
     "metadata": {},
     "output_type": "execute_result"
    }
   ],
   "source": [
    "len(df.title.unique())"
   ]
  },
  {
   "cell_type": "code",
   "execution_count": 181,
   "metadata": {},
   "outputs": [],
   "source": [
    "# CSV出力\n",
    "df.to_csv('SUUMO_nakano.csv',index=None)\n"
   ]
  }
 ],
 "metadata": {
  "kernelspec": {
   "display_name": "Python 3",
   "language": "python",
   "name": "python3"
  },
  "language_info": {
   "codemirror_mode": {
    "name": "ipython",
    "version": 3
   },
   "file_extension": ".py",
   "mimetype": "text/x-python",
   "name": "python",
   "nbconvert_exporter": "python",
   "pygments_lexer": "ipython3",
   "version": "3.11.3"
  },
  "orig_nbformat": 4
 },
 "nbformat": 4,
 "nbformat_minor": 2
}
